{
 "cells": [
  {
   "cell_type": "code",
   "execution_count": 28,
   "id": "9bf0dd73-1dc3-4450-b348-3b81aa20d78e",
   "metadata": {},
   "outputs": [
    {
     "data": {
      "text/plain": [
       "1024"
      ]
     },
     "execution_count": 28,
     "metadata": {},
     "output_type": "execute_result"
    }
   ],
   "source": [
    "#tenth power\n",
    "def tenth_power(num):\n",
    "    num=2\n",
    "    return num**10\n",
    "tenth_power(\"num\")"
   ]
  },
  {
   "cell_type": "code",
   "execution_count": 38,
   "id": "52fb3f33-42a9-4df6-8880-95f56b7969fe",
   "metadata": {},
   "outputs": [
    {
     "data": {
      "text/plain": [
       "4.0"
      ]
     },
     "execution_count": 38,
     "metadata": {},
     "output_type": "execute_result"
    }
   ],
   "source": [
    "#square root\n",
    "def square_root(num):\n",
    "    num=16\n",
    "    return num**0.5\n",
    "square_root(\"num\")"
   ]
  },
  {
   "cell_type": "code",
   "execution_count": 41,
   "id": "c9ba0ff9-d08a-4736-aca8-5093260dcadf",
   "metadata": {},
   "outputs": [
    {
     "data": {
      "text/plain": [
       "42.857142857142854"
      ]
     },
     "execution_count": 41,
     "metadata": {},
     "output_type": "execute_result"
    }
   ],
   "source": [
    "#calculate percentage of games won\n",
    "def win_percentage(wins,losses):\n",
    "    total_games = wins + losses\n",
    "    ratio_won = wins/ total_games\n",
    "    return ratio_won * 100\n",
    "win_percentage(6,8)"
   ]
  },
  {
   "cell_type": "code",
   "execution_count": 46,
   "id": "b760968f-4e1d-4aae-8cd2-465d8a1d9fef",
   "metadata": {},
   "outputs": [
    {
     "data": {
      "text/plain": [
       "5.0"
      ]
     },
     "execution_count": 46,
     "metadata": {},
     "output_type": "execute_result"
    }
   ],
   "source": [
    "#average\n",
    "def average(num1,num2):\n",
    "    return (num1+num2)/2\n",
    "average(5,5)"
   ]
  },
  {
   "cell_type": "code",
   "execution_count": 51,
   "id": "86595bde-c886-4a0e-9de2-f3ec3548337b",
   "metadata": {},
   "outputs": [
    {
     "data": {
      "text/plain": [
       "2.5"
      ]
     },
     "execution_count": 51,
     "metadata": {},
     "output_type": "execute_result"
    }
   ],
   "source": [
    "#remainder\n",
    "def remainder(num1,num2):\n",
    "    return (num1*2)%(num2/2)\n",
    "remainder(8,9)"
   ]
  },
  {
   "cell_type": "code",
   "execution_count": 55,
   "id": "591ba1f8-405a-4043-ab3d-7ef65c21051b",
   "metadata": {},
   "outputs": [
    {
     "name": "stdout",
     "output_type": "stream",
     "text": [
      "7 14 21\n"
     ]
    },
    {
     "data": {
      "text/plain": [
       "21"
      ]
     },
     "execution_count": 55,
     "metadata": {},
     "output_type": "execute_result"
    }
   ],
   "source": [
    "def first_three_multiples(num):\n",
    "    print(num*1, num*2, num*3)\n",
    "    return num*3\n",
    "first_three_multiples(7)"
   ]
  },
  {
   "cell_type": "code",
   "execution_count": 60,
   "id": "dc282a5a-fdd0-40be-b5d8-76787e3f679c",
   "metadata": {},
   "outputs": [
    {
     "data": {
      "text/plain": [
       "5.0"
      ]
     },
     "execution_count": 60,
     "metadata": {},
     "output_type": "execute_result"
    }
   ],
   "source": [
    "#calculate tip given to a waitress at a restaurant, the tip is a percentage of total cost of food consumed.\n",
    "def tip(total, percentage):\n",
    "    tip_amount = (total*percentage)/100\n",
    "    return tip_amount\n",
    "tip(50,10)\n"
   ]
  },
  {
   "cell_type": "code",
   "execution_count": 68,
   "id": "2e4182b7-959f-4bd8-b4ff-901be62c43f1",
   "metadata": {},
   "outputs": [
    {
     "name": "stdout",
     "output_type": "stream",
     "text": [
      "Bond , James Bond\n"
     ]
    }
   ],
   "source": [
    "#Concatenate names\n",
    "def introduction(first_name, last_name):\n",
    "  print(last_name, \",\", first_name, last_name)\n",
    "introduction(\"James\", \"Bond\")"
   ]
  },
  {
   "cell_type": "code",
   "execution_count": 69,
   "id": "4c50c185-a234-406c-9b81-69761c0a90fe",
   "metadata": {},
   "outputs": [
    {
     "name": "stdout",
     "output_type": "stream",
     "text": [
      "Lola, you are 112 years old in dog years\n"
     ]
    }
   ],
   "source": [
    "#calculate age of a dog in dog years\n",
    "def dog_years(name,age):\n",
    "    return name + \", \"+\"you are\" +\" \"+str(age * 7)+ \" \" +\"years old in dog years\"\n",
    "print(dog_years(\"Lola\", 16))"
   ]
  },
  {
   "cell_type": "code",
   "execution_count": 72,
   "id": "faa923c2-6c03-4f70-ae41-d9463ba951ef",
   "metadata": {},
   "outputs": [
    {
     "name": "stdout",
     "output_type": "stream",
     "text": [
      "6\n",
      "2\n",
      "12\n"
     ]
    },
    {
     "data": {
      "text/plain": [
       "0"
      ]
     },
     "execution_count": 72,
     "metadata": {},
     "output_type": "execute_result"
    }
   ],
   "source": [
    "#calculate multiple mathematical operations\n",
    "def lots_of_math(a,b,c,d):\n",
    "  first =a+b\n",
    "  second = c-d\n",
    "  third =first * second\n",
    "  fourth = third % a\n",
    "  print(first)\n",
    "  print(second)\n",
    "  print(third)\n",
    "  return(fourth)\n",
    "lots_of_math(2,4,10,8)"
   ]
  },
  {
   "cell_type": "code",
   "execution_count": null,
   "id": "6e8828fe-ace3-4c27-b8d7-73aa50c776ae",
   "metadata": {},
   "outputs": [],
   "source": []
  }
 ],
 "metadata": {
  "kernelspec": {
   "display_name": "Python 3 (ipykernel)",
   "language": "python",
   "name": "python3"
  },
  "language_info": {
   "codemirror_mode": {
    "name": "ipython",
    "version": 3
   },
   "file_extension": ".py",
   "mimetype": "text/x-python",
   "name": "python",
   "nbconvert_exporter": "python",
   "pygments_lexer": "ipython3",
   "version": "3.9.12"
  }
 },
 "nbformat": 4,
 "nbformat_minor": 5
}
