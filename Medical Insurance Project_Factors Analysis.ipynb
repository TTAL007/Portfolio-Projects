{
 "cells": [
  {
   "cell_type": "code",
   "execution_count": 1,
   "id": "a35a69e0",
   "metadata": {},
   "outputs": [],
   "source": [
    "#Project involves determining how different factors such as age, sex, bmi etc., could contribute to medical insurance costs prediction using estimation of a person's yearly insurance costs.\n",
    "\n",
    "# Initial variables \n",
    "age = 28\n",
    "sex = 0\n",
    "bmi = 26.2\n",
    "num_of_children = 3\n",
    "smoker = 0"
   ]
  },
  {
   "cell_type": "code",
   "execution_count": 2,
   "id": "49b5b5ba",
   "metadata": {},
   "outputs": [
    {
     "name": "stdout",
     "output_type": "stream",
     "text": [
      "5469.0\n"
     ]
    }
   ],
   "source": [
    "# Insurance cost formular - 𝑖𝑛𝑠𝑢𝑟𝑎𝑛𝑐𝑒_𝑐𝑜𝑠𝑡=250∗𝑎𝑔𝑒−128∗𝑠𝑒𝑥+370∗𝑏𝑚𝑖+425∗𝑛𝑢𝑚_𝑜𝑓_𝑐ℎ𝑖𝑙𝑑𝑟𝑒𝑛+24000∗𝑠𝑚𝑜𝑘𝑒𝑟−12500\n",
    "insurance_cost = 250 * age - 128 * sex + 370 * bmi + 425 * num_of_children + 24000 * smoker - 12500\n",
    "\n",
    "print(insurance_cost)"
   ]
  },
  {
   "cell_type": "code",
   "execution_count": 3,
   "id": "8f9098dd",
   "metadata": {},
   "outputs": [
    {
     "name": "stdout",
     "output_type": "stream",
     "text": [
      "This person's insurance cost is 5469.0 dollars. \n"
     ]
    }
   ],
   "source": [
    "print(\"This person's insurance cost is\" + \" \" + str(insurance_cost) + \" dollars. \")"
   ]
  },
  {
   "cell_type": "code",
   "execution_count": 4,
   "id": "ccf15726",
   "metadata": {},
   "outputs": [
    {
     "name": "stdout",
     "output_type": "stream",
     "text": [
      "32\n"
     ]
    }
   ],
   "source": [
    "#Looking at Age Factor\n",
    "# add 4 years to age variable.\n",
    "age = 28\n",
    "age += 4\n",
    "print(age)"
   ]
  },
  {
   "cell_type": "code",
   "execution_count": 5,
   "id": "3748bfdd",
   "metadata": {},
   "outputs": [
    {
     "name": "stdout",
     "output_type": "stream",
     "text": [
      "6469.0\n"
     ]
    }
   ],
   "source": [
    "# New insurance cost after age has been increased.\n",
    "new_insurance_cost = 250 * age - 128 * sex + 370 * bmi + 425 * num_of_children + 24000 * smoker - 12500\n",
    "print(new_insurance_cost)"
   ]
  },
  {
   "cell_type": "code",
   "execution_count": 6,
   "id": "11b2e4ac",
   "metadata": {},
   "outputs": [
    {
     "name": "stdout",
     "output_type": "stream",
     "text": [
      "1000.0\n"
     ]
    }
   ],
   "source": [
    "# Display the result - difference between initial insurance cost and the new one.\n",
    "change_in_insurance_cost = new_insurance_cost - insurance_cost\n",
    "print(change_in_insurance_cost)"
   ]
  },
  {
   "cell_type": "code",
   "execution_count": 7,
   "id": "b3b62431",
   "metadata": {},
   "outputs": [
    {
     "name": "stdout",
     "output_type": "stream",
     "text": [
      "The change in cost of insurance after increasing the age by 4 years is 1000.0 dollars\n"
     ]
    }
   ],
   "source": [
    "#Display result in an informative way\n",
    "print(\"The change in cost of insurance after increasing the age by 4 years is \" +str(change_in_insurance_cost) + \" dollars\")"
   ]
  },
  {
   "cell_type": "code",
   "execution_count": 8,
   "id": "ee2dcc68",
   "metadata": {},
   "outputs": [
    {
     "name": "stdout",
     "output_type": "stream",
     "text": [
      "28 29.3\n"
     ]
    }
   ],
   "source": [
    "#Looking at BMI Factor - return age back to its original value and increase bmi.\n",
    "age -= 4\n",
    "bmi += 3.1\n",
    "print(age, bmi)"
   ]
  },
  {
   "cell_type": "code",
   "execution_count": 9,
   "id": "a3807a55",
   "metadata": {},
   "outputs": [
    {
     "name": "stdout",
     "output_type": "stream",
     "text": [
      "The change in estimated insurance cost after increasing BMI BY 3.1 is 1147.0 dollars\n"
     ]
    }
   ],
   "source": [
    "# Result of how change in bmi affects insurance costs.\n",
    "new_insurance_cost = 250 * age - 128 * sex + 370 * bmi + 425 * num_of_children + 24000 * smoker - 12500\n",
    "change_in_insurance_cost = new_insurance_cost - insurance_cost\n",
    "print(\"The change in estimated insurance cost after increasing BMI BY 3.1 is \" +str(change_in_insurance_cost) + \" dollars\")"
   ]
  },
  {
   "cell_type": "code",
   "execution_count": 10,
   "id": "78d1292d",
   "metadata": {},
   "outputs": [
    {
     "name": "stdout",
     "output_type": "stream",
     "text": [
      "26.2 1\n"
     ]
    }
   ],
   "source": [
    "#Looking at Male vs Female Factor- reassign BMI back to its original value\n",
    "# 0 represents Female and 1 is Male\n",
    "bmi = 26.2\n",
    "sex = 1\n",
    "print(bmi , sex)"
   ]
  },
  {
   "cell_type": "code",
   "execution_count": 11,
   "id": "704e208b",
   "metadata": {},
   "outputs": [
    {
     "name": "stdout",
     "output_type": "stream",
     "text": [
      "-128.0\n",
      "The change in estimated insurance cost for being male instead of female is -128.0 dollars\n"
     ]
    }
   ],
   "source": [
    "# Display the new insurance cost reflecting change in bmi\n",
    "new_insurance_cost = 250 * age - 128 * sex + 370 * bmi + 425 * num_of_children + 24000 * smoker - 12500\n",
    "change_in_insurance_cost = new_insurance_cost - insurance_cost\n",
    "print(change_in_insurance_cost)\n",
    "print(\"The change in estimated insurance cost for being male instead of female is \" +str(change_in_insurance_cost) + \" dollars\")\n",
    "\n",
    "#negative value of -128 dollars simply means that men tend to have lower medical costs on average than women."
   ]
  },
  {
   "cell_type": "code",
   "execution_count": 12,
   "id": "6e4b3e48",
   "metadata": {},
   "outputs": [
    {
     "name": "stdout",
     "output_type": "stream",
     "text": [
      "4\n"
     ]
    }
   ],
   "source": [
    "#Looking at Male vs Female Factor- reassign sex back to its original value\n",
    "num_of_children += 1\n",
    "print(num_of_children)"
   ]
  },
  {
   "cell_type": "code",
   "execution_count": 15,
   "id": "cff363ed",
   "metadata": {},
   "outputs": [
    {
     "name": "stdout",
     "output_type": "stream",
     "text": [
      "0\n"
     ]
    }
   ],
   "source": [
    "#reassign sex back to its original value\n",
    "sex = 0\n",
    "print(sex)"
   ]
  },
  {
   "cell_type": "code",
   "execution_count": 16,
   "id": "592f738b",
   "metadata": {},
   "outputs": [
    {
     "name": "stdout",
     "output_type": "stream",
     "text": [
      "5894.0\n",
      "425.0\n",
      "The change in estimated insurance cost for increasing the number of children by 1 is 425.0 dollars\n"
     ]
    }
   ],
   "source": [
    "# New Insurance cost value based on increase in number of children\n",
    "new_insurance_cost = 250 * age - 128 * sex + 370 * bmi + 425 * num_of_children + 24000 * smoker - 12500\n",
    "print(new_insurance_cost)\n",
    "\n",
    "change_in_insurance_cost = new_insurance_cost - insurance_cost\n",
    "print(change_in_insurance_cost)\n",
    "\n",
    "print(\"The change in estimated insurance cost for increasing the number of children by 1 is \" +str(change_in_insurance_cost) + \" dollars\")"
   ]
  },
  {
   "cell_type": "code",
   "execution_count": 17,
   "id": "7722c30d",
   "metadata": {},
   "outputs": [
    {
     "name": "stdout",
     "output_type": "stream",
     "text": [
      "3 1\n"
     ]
    }
   ],
   "source": [
    "# Reassign num_of_children back its original value, and asign 1 to smoker where 0 is for non-smoker and 1 is for smoker\n",
    "num_of_children = 3\n",
    "smoker = 1\n",
    "print(num_of_children , smoker)"
   ]
  },
  {
   "cell_type": "code",
   "execution_count": 18,
   "id": "a835281e",
   "metadata": {},
   "outputs": [
    {
     "name": "stdout",
     "output_type": "stream",
     "text": [
      "29469.0\n",
      "24000.0\n",
      "The change in estimated insurance cost for changing the smoker status from a non-smoker to a smoker is 24000.0 dollars\n"
     ]
    }
   ],
   "source": [
    "# New Insurance cost value based on change in smoker status from 0 to 1 where 1 represents smoker.\n",
    "new_insurance_cost = 250 * age - 128 * sex + 370 * bmi + 425 * num_of_children + 24000 * smoker - 12500\n",
    "print(new_insurance_cost)\n",
    "\n",
    "change_in_insurance_cost = new_insurance_cost - insurance_cost\n",
    "print(change_in_insurance_cost)\n",
    "\n",
    "print(\"The change in estimated insurance cost for changing the smoker status from a non-smoker to a smoker is \" +str(change_in_insurance_cost) + \" dollars\")"
   ]
  },
  {
   "cell_type": "code",
   "execution_count": null,
   "id": "17379229",
   "metadata": {},
   "outputs": [],
   "source": [
    "# Overall Summary \n",
    "# as age increases, insurance cost also increases. In this case, age was increased by 4 changing the insurance cost from $5,469 to $6,469.\n",
    "# as BMI increases, insurance cost also increases by 1,147 dollars. In this case, BMI was increased by 3.l changing the insurance cost from $5,469 to $6,616.\n",
    "#as age changes from Female to Male, insurance cost decreases by 128 dollars. This means that men tend to have lover medical costs on average than women.\n",
    "#as the number of children increases, insurance costs also increase by 425 dollars. In this case, the number of children was increased by 1 changing the insurance cost from $5,469 to $5,894.0.\n",
    "# Changing the smoker factor from 0 to 1(non-smoker to a smoker) significantly increased the total insurance costs from $5,469 to $29,469. The insurance costs increased by $24,000."
   ]
  }
 ],
 "metadata": {
  "kernelspec": {
   "display_name": "Python 3 (ipykernel)",
   "language": "python",
   "name": "python3"
  },
  "language_info": {
   "codemirror_mode": {
    "name": "ipython",
    "version": 3
   },
   "file_extension": ".py",
   "mimetype": "text/x-python",
   "name": "python",
   "nbconvert_exporter": "python",
   "pygments_lexer": "ipython3",
   "version": "3.9.12"
  }
 },
 "nbformat": 4,
 "nbformat_minor": 5
}
